{
  "nbformat": 4,
  "nbformat_minor": 0,
  "metadata": {
    "colab": {
      "provenance": [],
      "authorship_tag": "ABX9TyNsZcRygNyaeeuxjpCUTgcR",
      "include_colab_link": true
    },
    "kernelspec": {
      "name": "python3",
      "display_name": "Python 3"
    },
    "language_info": {
      "name": "python"
    }
  },
  "cells": [
    {
      "cell_type": "markdown",
      "metadata": {
        "id": "view-in-github",
        "colab_type": "text"
      },
      "source": [
        "<a href=\"https://colab.research.google.com/github/ZahibVentura/Simulaci-n-2-/blob/main/Simpy_Tarea.ipynb\" target=\"_parent\"><img src=\"https://colab.research.google.com/assets/colab-badge.svg\" alt=\"Open In Colab\"/></a>"
      ]
    },
    {
      "cell_type": "markdown",
      "source": [
        "### Simulación de Inventario en una Tienda\n",
        "\n",
        "Una tienda necesita gestionar el inventario de sus productos. Cuando el inventario baja de un nivel crítico, se realiza un pedido para reabastecer, pero este pedido tarda algunos días en llegar. Se quiere analizar:\n",
        "\n",
        ".La cantidad promedio de inventario restante al final de un período\n",
        "\n",
        ".La frecuencia con la que la tienda se queda sin inventario\n",
        "\n"
      ],
      "metadata": {
        "id": "52eKwGiNqNB_"
      }
    },
    {
      "cell_type": "markdown",
      "source": [
        "Datos del problema:\n",
        "\n",
        "Nivel de reorden (20 unidades): Nivel mínimo de inventario antes de hacer un pedido.\n",
        "\n",
        "Cantidad de pedido (50 unidades): Cantidad solicitada en cada pedido de reabastecimiento.\n",
        "\n",
        "Tiempo de reabastecimiento (5 días): Días que tarda en llegar un pedido.\n",
        "\n",
        "Demanda diaria promedio (10 unidades): Número promedio de productos vendidos cada día."
      ],
      "metadata": {
        "id": "eJRttZQBrFR3"
      }
    },
    {
      "cell_type": "code",
      "source": [
        "!pip install simpy"
      ],
      "metadata": {
        "colab": {
          "base_uri": "https://localhost:8080/"
        },
        "id": "9Xk3f5zouqMT",
        "outputId": "d42d13cc-5d46-40b8-caf6-bc82c90605e4"
      },
      "execution_count": 2,
      "outputs": [
        {
          "output_type": "stream",
          "name": "stdout",
          "text": [
            "Collecting simpy\n",
            "  Downloading simpy-4.1.1-py3-none-any.whl.metadata (6.1 kB)\n",
            "Downloading simpy-4.1.1-py3-none-any.whl (27 kB)\n",
            "Installing collected packages: simpy\n",
            "Successfully installed simpy-4.1.1\n"
          ]
        }
      ]
    },
    {
      "cell_type": "code",
      "source": [
        "import simpy\n",
        "import numpy as np\n",
        "import matplotlib.pyplot as plt\n",
        "\n",
        "# Parámetros de simulación\n",
        "reorden_nivel = 20         # Nivel mínimo de inventario antes de reordenar\n",
        "cantidad_pedido = 50       # Cantidad de productos pedidos en cada reabastecimiento\n",
        "tiempo_reabastecimiento = 5 # Días que tarda en llegar el pedido\n",
        "demanda_diaria = 10        # Demanda diaria promedio\n",
        "dias_simulacion = 30       # Días de simulación\n",
        "n_simulaciones = 100       # Número de simulaciones\n",
        "\n",
        "# Proceso de administración de inventario en la tienda\n",
        "def proceso_inventario(env, inventario, reorden_nivel, cantidad_pedido, tiempo_reabastecimiento, demanda_diaria):\n",
        "    while True:\n",
        "        # Genera la demanda diaria aleatoria\n",
        "        demanda = np.random.poisson(demanda_diaria)\n",
        "\n",
        "        if inventario.level > 0:\n",
        "            # Si hay inventario disponible, intenta cubrir la demanda\n",
        "            demanda_atendida = min(demanda, inventario.level)\n",
        "            inventario.get(demanda_atendida)\n",
        "        else:\n",
        "            demanda_atendida = 0  # No hay inventario para cubrir la demanda\n",
        "\n",
        "        # Revisa si es necesario hacer un pedido\n",
        "        if inventario.level <= reorden_nivel and not inventario.get_queue:\n",
        "            # Si está bajo el nivel de reorden y no hay pedido en camino, se hace un nuevo pedido\n",
        "            env.process(reabastecer(env, inventario, cantidad_pedido, tiempo_reabastecimiento))\n",
        "\n",
        "        # Avanza un día en la simulación\n",
        "        yield env.timeout(1)\n",
        "\n",
        "# Proceso de reabastecimiento de inventario\n",
        "def reabastecer(env, inventario, cantidad_pedido, tiempo_reabastecimiento):\n",
        "    # Espera el tiempo de reabastecimiento antes de agregar los productos al inventario\n",
        "    yield env.timeout(tiempo_reabastecimiento)\n",
        "    inventario.put(cantidad_pedido)\n",
        "\n",
        "# Función para ejecutar la simulación y recopilar estadísticas\n",
        "def simular_inventario(n_simulaciones, reorden_nivel, cantidad_pedido, tiempo_reabastecimiento, demanda_diaria, dias_simulacion):\n",
        "    inventarios_finales = []\n",
        "    tiempos_sin_stock = []\n",
        "\n",
        "    for _ in range(n_simulaciones):\n",
        "        env = simpy.Environment()\n",
        "        # Inicializa el inventario con el nivel de reorden para empezar\n",
        "        inventario = simpy.Container(env, init=reorden_nivel)\n",
        "        tiempo_sin_stock = 0  # Tiempo acumulado sin inventario\n",
        "\n",
        "        # Ejecuta el proceso principal de inventario\n",
        "        env.process(proceso_inventario(env, inventario, reorden_nivel, cantidad_pedido, tiempo_reabastecimiento, demanda_diaria))\n",
        "\n",
        "        # Monitorea el inventario cada día\n",
        "        def monitorear_inventario():\n",
        "            nonlocal tiempo_sin_stock\n",
        "            while True:\n",
        "                if inventario.level == 0:\n",
        "                    tiempo_sin_stock += 1\n",
        "                yield env.timeout(1)\n",
        "\n",
        "        env.process(monitorear_inventario())\n",
        "        env.run(until=dias_simulacion)\n",
        "\n",
        "        # Guarda los resultados al final de cada simulación\n",
        "        inventarios_finales.append(inventario.level)\n",
        "        tiempos_sin_stock.append(tiempo_sin_stock)\n",
        "\n",
        "    return inventarios_finales, tiempos_sin_stock\n",
        "\n",
        "# Ejecuta la simulación y genera resultados\n",
        "inventarios_finales, tiempos_sin_stock = simular_inventario(\n",
        "    n_simulaciones, reorden_nivel, cantidad_pedido, tiempo_reabastecimiento, demanda_diaria, dias_simulacion)\n",
        "\n",
        "# Resultados y gráficos\n",
        "print(\"Inventario promedio final:\", np.mean(inventarios_finales))\n",
        "print(\"Tiempo promedio sin inventario:\", np.mean(tiempos_sin_stock))\n",
        "\n",
        "plt.hist(inventarios_finales, bins=10, alpha=0.7, label=\"Inventario Final\")\n",
        "plt.axvline(np.mean(inventarios_finales), color='r', linestyle='--', label=\"Promedio Inventario Final\")\n",
        "plt.xlabel(\"Nivel de Inventario Final\")\n",
        "plt.ylabel(\"Frecuencia\")\n",
        "plt.legend()\n",
        "plt.title(\"Distribución del Inventario Final\")\n",
        "plt.show()"
      ],
      "metadata": {
        "colab": {
          "base_uri": "https://localhost:8080/",
          "height": 507
        },
        "id": "jQvg4c3qxw9W",
        "outputId": "6d398123-b650-4b90-e572-9e2ce9496f30"
      },
      "execution_count": 15,
      "outputs": [
        {
          "output_type": "stream",
          "name": "stdout",
          "text": [
            "Inventario promedio final: 6.59\n",
            "Tiempo promedio sin inventario: 4.32\n"
          ]
        },
        {
          "output_type": "display_data",
          "data": {
            "text/plain": [
              "<Figure size 640x480 with 1 Axes>"
            ],
            "image/png": "[encoded data removed]"
          },
          "metadata": {}
        }
      ]
    }
  ]
}
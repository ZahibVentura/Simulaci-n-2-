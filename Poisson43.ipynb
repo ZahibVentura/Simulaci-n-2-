{
  "nbformat": 4,
  "nbformat_minor": 0,
  "metadata": {
    "colab": {
      "provenance": [],
      "authorship_tag": "ABX9TyOwjYgtRgYSf2GutwNuvNND",
      "include_colab_link": true
    },
    "kernelspec": {
      "name": "python3",
      "display_name": "Python 3"
    },
    "language_info": {
      "name": "python"
    }
  },
  "cells": [
    {
      "cell_type": "markdown",
      "metadata": {
        "id": "view-in-github",
        "colab_type": "text"
      },
      "source": [
        "<a href=\"https://colab.research.google.com/github/ZahibVentura/Simulaci-n-2-/blob/main/Poisson43.ipynb\" target=\"_parent\"><img src=\"https://colab.research.google.com/assets/colab-badge.svg\" alt=\"Open In Colab\"/></a>"
      ]
    },
    {
      "cell_type": "code",
      "source": [
        "# Algoritmo: Proceso de Poisson homogéneo#\n",
        "import random as rd\n",
        "import matplotlib.pyplot as plt\n",
        "import numpy as np"
      ],
      "metadata": {
        "id": "1gmhBrRZAget"
      },
      "execution_count": 27,
      "outputs": []
    },
    {
      "cell_type": "code",
      "source": [
        "def lambda_t(t):\n",
        "  if 0<=t<=3:\n",
        "    return 5+5*t\n",
        "  elif 3<t<=5:\n",
        "    return 20\n",
        "  elif 5<t<=9:\n",
        "    return 20 - 2*(t-5)\n",
        "  else:\n",
        "    return 0"
      ],
      "metadata": {
        "id": "8aN27IeIA3YM"
      },
      "execution_count": 35,
      "outputs": []
    },
    {
      "cell_type": "code",
      "source": [
        "# Inicialización de variables\n",
        "t = 0  # Tiempo inicial\n",
        "I = 0  # Número de eventos\n",
        "T = 160  # Tiempo máximo\n",
        "LAMBDA = 5.25  # Tasa de eventos"
      ],
      "metadata": {
        "id": "0JdtfCtxAkTs"
      },
      "execution_count": 50,
      "outputs": []
    },
    {
      "cell_type": "code",
      "source": [
        "# Listas para almacenar los tiempos y los eventos\n",
        "times = []  # Inicia en 0\n",
        "events = []  # Número de eventos comienza en 0\n",
        "\n",
        "\n",
        "# Simulación del proceso de Poisson\n",
        "while t <= T:\n",
        "    u1 = rd.uniform(0, 1)  # Generamos número aleatorio entre 0 y 1\n",
        "    u2 = rd.uniform(0, 1)  # Generamos número aleatorio entre 0 y 1\n",
        "    t = t - (np.log(u1) / LAMBDA)  # Calculamos el siguiente tiempo\n",
        "    if t <= T:  # Si no excede el tiempo límite\n",
        "      if u2 <= lambda_t(t) / LAMBDA:  # Si el número aleatorio es menor que la tasa de eventos\n",
        "        I += 1  # Aumentamos el número de eventos\n",
        "        times.append(t)  # Guardamos el tiempo\n",
        "        events.append(I)  # Guardamos el número de eventos"
      ],
      "metadata": {
        "id": "Za225fCSAmXM"
      },
      "execution_count": 51,
      "outputs": []
    },
    {
      "cell_type": "code",
      "source": [
        "# Imprimir el último tiempo y número de eventos\n",
        "print(f\"Último tiempo: {t:.2f}, Número total de eventos: {I}\")"
      ],
      "metadata": {
        "colab": {
          "base_uri": "https://localhost:8080/"
        },
        "id": "sBZhknQGArFs",
        "outputId": "4c40eb38-f631-4f4e-eb9a-cb5a1bc078bc"
      },
      "execution_count": 52,
      "outputs": [
        {
          "output_type": "stream",
          "name": "stdout",
          "text": [
            "Último tiempo: 160.03, Número total de eventos: 42\n"
          ]
        }
      ]
    },
    {
      "cell_type": "code",
      "source": [
        "# Graficar la función escalonada\n",
        "plt.step(times, events, where='post')  # Gráfico escalonado\n",
        "plt.xlabel('Tiempo')\n",
        "plt.ylabel('Número de eventos')\n",
        "plt.title('Proceso de Poisson no homogéneo')\n",
        "#plt.grid(True)\n",
        "plt.show()"
      ],
      "metadata": {
        "colab": {
          "base_uri": "https://localhost:8080/",
          "height": 472
        },
        "id": "_nSjRkLEAvPk",
        "outputId": "3abe3c0b-3667-470c-f3f5-0e6749cf073e"
      },
      "execution_count": 53,
      "outputs": [
        {
          "output_type": "display_data",
          "data": {
            "text/plain": [
              "<Figure size 640x480 with 1 Axes>"
            ],
            "image/png": "[encoded data removed]"
          },
          "metadata": {}
        }
      ]
    }
  ]
}
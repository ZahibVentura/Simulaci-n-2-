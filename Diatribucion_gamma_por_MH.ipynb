{
  "nbformat": 4,
  "nbformat_minor": 0,
  "metadata": {
    "colab": {
      "provenance": [],
      "authorship_tag": "ABX9TyPVTJdOLfa8OSpVv9ZiUpt1",
      "include_colab_link": true
    },
    "kernelspec": {
      "name": "python3",
      "display_name": "Python 3"
    },
    "language_info": {
      "name": "python"
    }
  },
  "cells": [
    {
      "cell_type": "markdown",
      "metadata": {
        "id": "view-in-github",
        "colab_type": "text"
      },
      "source": [
        "<a href=\"https://colab.research.google.com/github/ZahibVentura/Simulaci-n-2-/blob/main/Diatribucion_gamma_por_MH.ipynb\" target=\"_parent\"><img src=\"https://colab.research.google.com/assets/colab-badge.svg\" alt=\"Open In Colab\"/></a>"
      ]
    },
    {
      "cell_type": "code",
      "execution_count": 39,
      "metadata": {
        "id": "_RR8OXLOrr4g"
      },
      "outputs": [],
      "source": [
        "import numpy as np\n",
        "import matplotlib.pyplot as plt\n",
        "from scipy.special import gamma as gm"
      ]
    },
    {
      "cell_type": "code",
      "source": [
        "%matplotlib inline"
      ],
      "metadata": {
        "id": "8qvd-_Pprwrq"
      },
      "execution_count": 40,
      "outputs": []
    },
    {
      "cell_type": "code",
      "source": [
        "def f(x,alp,lam):\n",
        " return (lam*(lam*x)**(alp-1))*np.exp(-lam*x)/gm(alp)"
      ],
      "metadata": {
        "id": "bWaOvcd1rxQK"
      },
      "execution_count": 41,
      "outputs": []
    },
    {
      "cell_type": "code",
      "source": [
        "alfa = 4\n",
        "lamda = 1\n",
        "delta = 0.2"
      ],
      "metadata": {
        "id": "l3ZSrk7orzmU"
      },
      "execution_count": 60,
      "outputs": []
    },
    {
      "cell_type": "code",
      "source": [
        "n = 100000\n",
        "x = np.zeros(n)\n",
        "x[0] = 2\n",
        "acept = 0\n",
        "\n",
        "\n",
        "for i in range(0,n-1):\n",
        "  y = x[i]+np.random.uniform(-delta,delta)\n",
        "  if y > 0:\n",
        "    if np.random.rand() < min(1,f(y,alfa,lamda)/f(x[i],alfa,lamda)):\n",
        "      x[i+1] = y\n",
        "      acept += 1\n",
        "    else:\n",
        "      x[i+1] = x[i]\n",
        "  else:\n",
        "    x[i+1] = x[i]"
      ],
      "metadata": {
        "id": "YdW3FaAkr1uA"
      },
      "execution_count": 70,
      "outputs": []
    },
    {
      "cell_type": "code",
      "source": [
        "print(\"La aceptacion fue del \",acept/n*100,\"%\")"
      ],
      "metadata": {
        "colab": {
          "base_uri": "https://localhost:8080/"
        },
        "id": "0y5Dqr6dr4nF",
        "outputId": "253970a8-4318-408d-b160-63e963cfb386"
      },
      "execution_count": 74,
      "outputs": [
        {
          "output_type": "stream",
          "name": "stdout",
          "text": [
            "La aceptacion fue del  97.799 %\n"
          ]
        }
      ]
    },
    {
      "cell_type": "code",
      "source": [
        "print(np.mean(x))\n",
        "print(np.std(x))"
      ],
      "metadata": {
        "colab": {
          "base_uri": "https://localhost:8080/"
        },
        "id": "aNxPiV9lr78S",
        "outputId": "463669be-0199-4ba5-f7da-3c7ff450441e"
      },
      "execution_count": 73,
      "outputs": [
        {
          "output_type": "stream",
          "name": "stdout",
          "text": [
            "4.070244687347364\n",
            "2.0492418738445006\n"
          ]
        }
      ]
    },
    {
      "cell_type": "code",
      "source": [
        "plt.hist(x,density=True,bins=50)\n",
        "xs = np.linspace(0.01,25,200)\n",
        "plt.plot(xs,f(xs,alfa,lamda))"
      ],
      "metadata": {
        "colab": {
          "base_uri": "https://localhost:8080/",
          "height": 448
        },
        "id": "OXE75mCOr_Ck",
        "outputId": "da8896a0-202a-44f4-d971-dc99fda68a9b"
      },
      "execution_count": 72,
      "outputs": [
        {
          "output_type": "execute_result",
          "data": {
            "text/plain": [
              "[<matplotlib.lines.Line2D at 0x79585cf8b5b0>]"
            ]
          },
          "metadata": {},
          "execution_count": 72
        },
        {
          "output_type": "display_data",
          "data": {
            "text/plain": [
              "<Figure size 640x480 with 1 Axes>"
            ],
            "image/png": "[encoded data removed]"
          },
          "metadata": {}
        }
      ]
    },
    {
      "cell_type": "code",
      "source": [
        "plt.plot(x[:100])"
      ],
      "metadata": {
        "id": "KYxuvffBsCW-"
      },
      "execution_count": null,
      "outputs": []
    }
  ]
}